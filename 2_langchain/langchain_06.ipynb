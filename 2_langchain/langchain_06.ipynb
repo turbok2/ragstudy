{
 "cells": [
  {
   "cell_type": "code",
   "execution_count": 1,
   "metadata": {},
   "outputs": [
    {
     "data": {
      "text/plain": [
       "True"
      ]
     },
     "execution_count": 1,
     "metadata": {},
     "output_type": "execute_result"
    }
   ],
   "source": [
    "import os\n",
    "from dotenv import load_dotenv\n",
    "# API KEY 정보 불러오기\n",
    "load_dotenv()"
   ]
  },
  {
   "cell_type": "code",
   "execution_count": 2,
   "metadata": {},
   "outputs": [],
   "source": [
    "# pdf 읽고, 분할하기\n",
    "from langchain.document_loaders import PyPDFLoader\n",
    "\n",
    "loader = PyPDFLoader(\"./data/소나기 - 황순원.pdf\") \n",
    "docs = loader.load_and_split()"
   ]
  },
  {
   "cell_type": "code",
   "execution_count": 3,
   "metadata": {},
   "outputs": [
    {
     "name": "stderr",
     "output_type": "stream",
     "text": [
      "C:\\Users\\turbo\\AppData\\Local\\Temp\\ipykernel_17004\\2034491755.py:7: LangChainDeprecationWarning: The method `Chain.run` was deprecated in langchain 0.1.0 and will be removed in 1.0. Use invoke instead.\n",
      "  summary = chain.run(docs)\n"
     ]
    },
    {
     "name": "stdout",
     "output_type": "stream",
     "text": [
      "A boy frequently encounters a girl at a stream and becomes intrigued by her. They eventually explore the countryside together, sharing playful and meaningful moments. The girl gets injured, and the boy helps her, leading to a deepening bond. However, the girl falls ill after a rainy day and later reveals her family is moving away due to financial difficulties. The boy regrets not saying a proper goodbye. He learns from his parents that the girl's family has faced significant hardships, including the recent death of their only great-grandchild, a girl who had been ill and wished to be buried in her own clothes.\n"
     ]
    }
   ],
   "source": [
    "# 내용 정리하기 \n",
    "from langchain_openai import ChatOpenAI\n",
    "from langchain.chains.summarize import load_summarize_chain\n",
    "\n",
    "llm = ChatOpenAI(temperature=0,model_name='gpt-4o')\n",
    "chain = load_summarize_chain(llm, chain_type=\"map_reduce\")\n",
    "summary = chain.run(docs)\n",
    "print(summary)"
   ]
  },
  {
   "cell_type": "code",
   "execution_count": 4,
   "metadata": {},
   "outputs": [
    {
     "name": "stdout",
     "output_type": "stream",
     "text": [
      "A young boy frequently encounters a playful girl at a stream and becomes intrigued by her. After she throws a pebble at him and disappears, he feels a growing emptiness and starts mimicking her actions. They later explore the countryside together, sharing moments and discussing plants. The boy helps the girl after she injures herself, and they seek shelter during a storm, deepening their bond. Despite the girl falling ill, they continue to meet and reminisce. The girl reveals her family is moving due to financial difficulties, and the boy regrets not saying a proper goodbye. He learns from adults about the Yoon family's misfortunes, including the loss of their only great-grandchild, a girl who wished to be buried in her own clothes.\n"
     ]
    }
   ],
   "source": [
    "# 내용 정리하기 - invoke 사용\n",
    "from langchain_openai import ChatOpenAI\n",
    "from langchain.chains.summarize import load_summarize_chain\n",
    "\n",
    "llm = ChatOpenAI(temperature=0,model_name='gpt-4o')\n",
    "chain = load_summarize_chain(llm, chain_type=\"map_reduce\")\n",
    "\n",
    "summary = chain.invoke(docs)\n",
    "print(summary['output_text'])"
   ]
  },
  {
   "cell_type": "markdown",
   "metadata": {},
   "source": [
    "### 번역 : DEEPL API 사용"
   ]
  },
  {
   "cell_type": "code",
   "execution_count": 5,
   "metadata": {},
   "outputs": [
    {
     "name": "stdout",
     "output_type": "stream",
     "text": [
      "안녕하세요, 세상 여러분!\n"
     ]
    }
   ],
   "source": [
    "import deepl\n",
    "\n",
    "auth_key = os.getenv(\"DEEPL_API_KEY\")\n",
    "translator = deepl.Translator(auth_key)\n",
    "result = translator.translate_text(\"Hello, world!\", target_lang=\"KO\")\n",
    "print(result.text)"
   ]
  },
  {
   "cell_type": "code",
   "execution_count": 6,
   "metadata": {},
   "outputs": [
    {
     "name": "stdout",
     "output_type": "stream",
     "text": [
      "[영문]: A young boy frequently encounters a playful girl at a stream and becomes intrigued by her. After she throws a pebble at him and disappears, he feels a growing emptiness and starts mimicking her actions. They later explore the countryside together, sharing moments and discussing plants. The boy helps the girl after she injures herself, and they seek shelter during a storm, deepening their bond. Despite the girl falling ill, they continue to meet and reminisce. The girl reveals her family is moving due to financial difficulties, and the boy regrets not saying a proper goodbye. He learns from adults about the Yoon family's misfortunes, including the loss of their only great-grandchild, a girl who wished to be buried in her own clothes.\n",
      "\n",
      "[한글]: 한 소년이 개울가에서 장난기 가득한 소녀를 자주 만나고 그녀에게 흥미를 느낍니다. 소녀가 조약돌을 던지고 사라지자 소년은 점점 공허함을 느끼고 소녀의 행동을 따라하기 시작합니다. 이후 둘은 함께 시골을 탐험하며 순간을 공유하고 식물에 대해 이야기합니다. 소년은 소녀가 다친 후 소녀를 돕고, 폭풍이 몰아칠 때 피난처를 찾으며 둘의 유대감은 더욱 깊어집니다. 소녀가 병에 걸렸음에도 불구하고 두 사람은 계속 만나 추억을 떠올립니다. 소녀는 경제적 어려움으로 가족이 이사를 간다고 밝히고, 소년은 제대로 작별 인사를 하지 못한 것을 후회합니다. 소년은 어른들로부터 하나뿐인 증손자이자 자신의 옷에 묻히고 싶었던 소녀를 잃은 윤씨 집안의 불행에 대해 듣게 됩니다.\n"
     ]
    }
   ],
   "source": [
    "print(f\"[영문]: {summary['output_text']}\\n\")\n",
    "translator = deepl.Translator(auth_key)\n",
    "result = translator.translate_text(summary['output_text'], target_lang=\"KO\")\n",
    "print(f\"[한글]: {result.text}\")"
   ]
  },
  {
   "cell_type": "markdown",
   "metadata": {},
   "source": [
    "### google 번역 API"
   ]
  },
  {
   "cell_type": "code",
   "execution_count": 8,
   "metadata": {},
   "outputs": [
    {
     "name": "stdout",
     "output_type": "stream",
     "text": [
      "Requirement already satisfied: googletrans==4.0.0-rc.1 in c:\\users\\turbo\\appdata\\local\\pypoetry\\cache\\virtualenvs\\ragstudy-l89wijfw-py3.11\\lib\\site-packages (4.0.0rc1)\n",
      "Collecting httpx==0.13.3 (from googletrans==4.0.0-rc.1)\n",
      "  Using cached httpx-0.13.3-py3-none-any.whl.metadata (25 kB)\n",
      "Requirement already satisfied: certifi in c:\\users\\turbo\\appdata\\local\\pypoetry\\cache\\virtualenvs\\ragstudy-l89wijfw-py3.11\\lib\\site-packages (from httpx==0.13.3->googletrans==4.0.0-rc.1) (2024.8.30)\n",
      "Requirement already satisfied: hstspreload in c:\\users\\turbo\\appdata\\local\\pypoetry\\cache\\virtualenvs\\ragstudy-l89wijfw-py3.11\\lib\\site-packages (from httpx==0.13.3->googletrans==4.0.0-rc.1) (2024.9.1)\n",
      "Requirement already satisfied: sniffio in c:\\users\\turbo\\appdata\\local\\pypoetry\\cache\\virtualenvs\\ragstudy-l89wijfw-py3.11\\lib\\site-packages (from httpx==0.13.3->googletrans==4.0.0-rc.1) (1.3.1)\n",
      "Requirement already satisfied: chardet==3.* in c:\\users\\turbo\\appdata\\local\\pypoetry\\cache\\virtualenvs\\ragstudy-l89wijfw-py3.11\\lib\\site-packages (from httpx==0.13.3->googletrans==4.0.0-rc.1) (3.0.4)\n",
      "Requirement already satisfied: idna==2.* in c:\\users\\turbo\\appdata\\local\\pypoetry\\cache\\virtualenvs\\ragstudy-l89wijfw-py3.11\\lib\\site-packages (from httpx==0.13.3->googletrans==4.0.0-rc.1) (2.10)\n",
      "Requirement already satisfied: rfc3986<2,>=1.3 in c:\\users\\turbo\\appdata\\local\\pypoetry\\cache\\virtualenvs\\ragstudy-l89wijfw-py3.11\\lib\\site-packages (from httpx==0.13.3->googletrans==4.0.0-rc.1) (1.5.0)\n",
      "Collecting httpcore==0.9.* (from httpx==0.13.3->googletrans==4.0.0-rc.1)\n",
      "  Using cached httpcore-0.9.1-py3-none-any.whl.metadata (4.6 kB)\n",
      "Collecting h11<0.10,>=0.8 (from httpcore==0.9.*->httpx==0.13.3->googletrans==4.0.0-rc.1)\n",
      "  Using cached h11-0.9.0-py2.py3-none-any.whl.metadata (8.1 kB)\n",
      "Requirement already satisfied: h2==3.* in c:\\users\\turbo\\appdata\\local\\pypoetry\\cache\\virtualenvs\\ragstudy-l89wijfw-py3.11\\lib\\site-packages (from httpcore==0.9.*->httpx==0.13.3->googletrans==4.0.0-rc.1) (3.2.0)\n",
      "Requirement already satisfied: hyperframe<6,>=5.2.0 in c:\\users\\turbo\\appdata\\local\\pypoetry\\cache\\virtualenvs\\ragstudy-l89wijfw-py3.11\\lib\\site-packages (from h2==3.*->httpcore==0.9.*->httpx==0.13.3->googletrans==4.0.0-rc.1) (5.2.0)\n",
      "Requirement already satisfied: hpack<4,>=3.0 in c:\\users\\turbo\\appdata\\local\\pypoetry\\cache\\virtualenvs\\ragstudy-l89wijfw-py3.11\\lib\\site-packages (from h2==3.*->httpcore==0.9.*->httpx==0.13.3->googletrans==4.0.0-rc.1) (3.0.0)\n",
      "Using cached httpx-0.13.3-py3-none-any.whl (55 kB)\n",
      "Using cached httpcore-0.9.1-py3-none-any.whl (42 kB)\n",
      "Using cached h11-0.9.0-py2.py3-none-any.whl (53 kB)\n",
      "Installing collected packages: h11, httpcore, httpx\n",
      "  Attempting uninstall: h11\n",
      "    Found existing installation: h11 0.12.0\n",
      "    Uninstalling h11-0.12.0:\n",
      "      Successfully uninstalled h11-0.12.0\n",
      "  Attempting uninstall: httpcore\n",
      "    Found existing installation: httpcore 0.15.0\n",
      "    Uninstalling httpcore-0.15.0:\n",
      "      Successfully uninstalled httpcore-0.15.0\n",
      "  Attempting uninstall: httpx\n",
      "    Found existing installation: httpx 0.23.0\n",
      "    Uninstalling httpx-0.23.0:\n",
      "      Successfully uninstalled httpx-0.23.0\n",
      "Successfully installed h11-0.9.0 httpcore-0.9.1 httpx-0.13.3\n"
     ]
    },
    {
     "name": "stderr",
     "output_type": "stream",
     "text": [
      "ERROR: pip's dependency resolver does not currently take into account all the packages that are installed. This behaviour is the source of the following dependency conflicts.\n",
      "anthropic 0.34.2 requires httpx<1,>=0.23.0, but you have httpx 0.13.3 which is incompatible.\n",
      "cohere 5.9.2 requires httpx>=0.21.2, but you have httpx 0.13.3 which is incompatible.\n",
      "jupyterlab 4.2.5 requires httpx>=0.25.0, but you have httpx 0.13.3 which is incompatible.\n",
      "langsmith 0.1.120 requires httpx<1,>=0.23.0, but you have httpx 0.13.3 which is incompatible.\n",
      "openai 1.45.0 requires httpx<1,>=0.23.0, but you have httpx 0.13.3 which is incompatible.\n",
      "\n",
      "[notice] A new release of pip is available: 24.1 -> 24.2\n",
      "[notice] To update, run: python.exe -m pip install --upgrade pip\n"
     ]
    }
   ],
   "source": [
    "!pip install googletrans==4.0.0-rc.1"
   ]
  },
  {
   "cell_type": "code",
   "execution_count": 9,
   "metadata": {},
   "outputs": [
    {
     "ename": "AttributeError",
     "evalue": "module 'httpcore' has no attribute 'SyncHTTPTransport'",
     "output_type": "error",
     "traceback": [
      "\u001b[1;31m---------------------------------------------------------------------------\u001b[0m",
      "\u001b[1;31mAttributeError\u001b[0m                            Traceback (most recent call last)",
      "Cell \u001b[1;32mIn[9], line 1\u001b[0m\n\u001b[1;32m----> 1\u001b[0m \u001b[38;5;28;01mfrom\u001b[39;00m \u001b[38;5;21;01mgoogletrans\u001b[39;00m \u001b[38;5;28;01mimport\u001b[39;00m Translator\n\u001b[0;32m      3\u001b[0m translator \u001b[38;5;241m=\u001b[39m Translator()\n\u001b[0;32m      4\u001b[0m \u001b[38;5;66;03m#간단한 텍스트 번역하기\u001b[39;00m\n",
      "File \u001b[1;32mc:\\Users\\turbo\\AppData\\Local\\pypoetry\\Cache\\virtualenvs\\ragstudy-L89wIJFw-py3.11\\Lib\\site-packages\\googletrans\\__init__.py:6\u001b[0m\n\u001b[0;32m      2\u001b[0m __all__ \u001b[38;5;241m=\u001b[39m \u001b[38;5;124m'\u001b[39m\u001b[38;5;124mTranslator\u001b[39m\u001b[38;5;124m'\u001b[39m,\n\u001b[0;32m      3\u001b[0m __version__ \u001b[38;5;241m=\u001b[39m \u001b[38;5;124m'\u001b[39m\u001b[38;5;124m4.0.0-rc.1\u001b[39m\u001b[38;5;124m'\u001b[39m\n\u001b[1;32m----> 6\u001b[0m \u001b[38;5;28;01mfrom\u001b[39;00m \u001b[38;5;21;01mgoogletrans\u001b[39;00m\u001b[38;5;21;01m.\u001b[39;00m\u001b[38;5;21;01mclient\u001b[39;00m \u001b[38;5;28;01mimport\u001b[39;00m Translator\n\u001b[0;32m      7\u001b[0m \u001b[38;5;28;01mfrom\u001b[39;00m \u001b[38;5;21;01mgoogletrans\u001b[39;00m\u001b[38;5;21;01m.\u001b[39;00m\u001b[38;5;21;01mconstants\u001b[39;00m \u001b[38;5;28;01mimport\u001b[39;00m LANGCODES, LANGUAGES  \u001b[38;5;66;03m# noqa\u001b[39;00m\n",
      "File \u001b[1;32mc:\\Users\\turbo\\AppData\\Local\\pypoetry\\Cache\\virtualenvs\\ragstudy-L89wIJFw-py3.11\\Lib\\site-packages\\googletrans\\client.py:30\u001b[0m\n\u001b[0;32m     26\u001b[0m EXCLUDES \u001b[38;5;241m=\u001b[39m (\u001b[38;5;124m'\u001b[39m\u001b[38;5;124men\u001b[39m\u001b[38;5;124m'\u001b[39m, \u001b[38;5;124m'\u001b[39m\u001b[38;5;124mca\u001b[39m\u001b[38;5;124m'\u001b[39m, \u001b[38;5;124m'\u001b[39m\u001b[38;5;124mfr\u001b[39m\u001b[38;5;124m'\u001b[39m)\n\u001b[0;32m     28\u001b[0m RPC_ID \u001b[38;5;241m=\u001b[39m \u001b[38;5;124m'\u001b[39m\u001b[38;5;124mMkEWBc\u001b[39m\u001b[38;5;124m'\u001b[39m\n\u001b[1;32m---> 30\u001b[0m \u001b[38;5;28;43;01mclass\u001b[39;49;00m\u001b[43m \u001b[49m\u001b[38;5;21;43;01mTranslator\u001b[39;49;00m\u001b[43m:\u001b[49m\n\u001b[0;32m     31\u001b[0m \u001b[38;5;250;43m    \u001b[39;49m\u001b[38;5;124;43;03m\"\"\"Google Translate ajax API implementation class\u001b[39;49;00m\n\u001b[0;32m     32\u001b[0m \n\u001b[0;32m     33\u001b[0m \u001b[38;5;124;43;03m    You have to create an instance of Translator to use this API\u001b[39;49;00m\n\u001b[1;32m   (...)\u001b[0m\n\u001b[0;32m     57\u001b[0m \u001b[38;5;124;43;03m    :type raise_exception: boolean\u001b[39;49;00m\n\u001b[0;32m     58\u001b[0m \u001b[38;5;124;43;03m    \"\"\"\u001b[39;49;00m\n\u001b[0;32m     60\u001b[0m \u001b[43m    \u001b[49m\u001b[38;5;28;43;01mdef\u001b[39;49;00m\u001b[43m \u001b[49m\u001b[38;5;21;43m__init__\u001b[39;49m\u001b[43m(\u001b[49m\u001b[38;5;28;43mself\u001b[39;49m\u001b[43m,\u001b[49m\u001b[43m \u001b[49m\u001b[43mservice_urls\u001b[49m\u001b[38;5;241;43m=\u001b[39;49m\u001b[43mDEFAULT_CLIENT_SERVICE_URLS\u001b[49m\u001b[43m,\u001b[49m\u001b[43m \u001b[49m\u001b[43muser_agent\u001b[49m\u001b[38;5;241;43m=\u001b[39;49m\u001b[43mDEFAULT_USER_AGENT\u001b[49m\u001b[43m,\u001b[49m\n\u001b[0;32m     61\u001b[0m \u001b[43m                 \u001b[49m\u001b[43mraise_exception\u001b[49m\u001b[38;5;241;43m=\u001b[39;49m\u001b[43mDEFAULT_RAISE_EXCEPTION\u001b[49m\u001b[43m,\u001b[49m\n\u001b[0;32m     62\u001b[0m \u001b[43m                 \u001b[49m\u001b[43mproxies\u001b[49m\u001b[43m:\u001b[49m\u001b[43m \u001b[49m\u001b[43mtyping\u001b[49m\u001b[38;5;241;43m.\u001b[39;49m\u001b[43mDict\u001b[49m\u001b[43m[\u001b[49m\u001b[38;5;28;43mstr\u001b[39;49m\u001b[43m,\u001b[49m\u001b[43m \u001b[49m\u001b[43mhttpcore\u001b[49m\u001b[38;5;241;43m.\u001b[39;49m\u001b[43mSyncHTTPTransport\u001b[49m\u001b[43m]\u001b[49m\u001b[43m \u001b[49m\u001b[38;5;241;43m=\u001b[39;49m\u001b[43m \u001b[49m\u001b[38;5;28;43;01mNone\u001b[39;49;00m\u001b[43m,\u001b[49m\n\u001b[0;32m     63\u001b[0m \u001b[43m                 \u001b[49m\u001b[43mtimeout\u001b[49m\u001b[43m:\u001b[49m\u001b[43m \u001b[49m\u001b[43mTimeout\u001b[49m\u001b[43m \u001b[49m\u001b[38;5;241;43m=\u001b[39;49m\u001b[43m \u001b[49m\u001b[38;5;28;43;01mNone\u001b[39;49;00m\u001b[43m,\u001b[49m\n\u001b[0;32m     64\u001b[0m \u001b[43m                 \u001b[49m\u001b[43mhttp2\u001b[49m\u001b[38;5;241;43m=\u001b[39;49m\u001b[38;5;28;43;01mTrue\u001b[39;49;00m\u001b[43m,\u001b[49m\n\u001b[0;32m     65\u001b[0m \u001b[43m                 \u001b[49m\u001b[43muse_fallback\u001b[49m\u001b[38;5;241;43m=\u001b[39;49m\u001b[38;5;28;43;01mFalse\u001b[39;49;00m\u001b[43m)\u001b[49m\u001b[43m:\u001b[49m\n",
      "File \u001b[1;32mc:\\Users\\turbo\\AppData\\Local\\pypoetry\\Cache\\virtualenvs\\ragstudy-L89wIJFw-py3.11\\Lib\\site-packages\\googletrans\\client.py:62\u001b[0m, in \u001b[0;36mTranslator\u001b[1;34m()\u001b[0m\n\u001b[0;32m     30\u001b[0m \u001b[38;5;28;01mclass\u001b[39;00m \u001b[38;5;21;01mTranslator\u001b[39;00m:\n\u001b[0;32m     31\u001b[0m \u001b[38;5;250m    \u001b[39m\u001b[38;5;124;03m\"\"\"Google Translate ajax API implementation class\u001b[39;00m\n\u001b[0;32m     32\u001b[0m \n\u001b[0;32m     33\u001b[0m \u001b[38;5;124;03m    You have to create an instance of Translator to use this API\u001b[39;00m\n\u001b[1;32m   (...)\u001b[0m\n\u001b[0;32m     57\u001b[0m \u001b[38;5;124;03m    :type raise_exception: boolean\u001b[39;00m\n\u001b[0;32m     58\u001b[0m \u001b[38;5;124;03m    \"\"\"\u001b[39;00m\n\u001b[0;32m     60\u001b[0m     \u001b[38;5;28;01mdef\u001b[39;00m \u001b[38;5;21m__init__\u001b[39m(\u001b[38;5;28mself\u001b[39m, service_urls\u001b[38;5;241m=\u001b[39mDEFAULT_CLIENT_SERVICE_URLS, user_agent\u001b[38;5;241m=\u001b[39mDEFAULT_USER_AGENT,\n\u001b[0;32m     61\u001b[0m                  raise_exception\u001b[38;5;241m=\u001b[39mDEFAULT_RAISE_EXCEPTION,\n\u001b[1;32m---> 62\u001b[0m                  proxies: typing\u001b[38;5;241m.\u001b[39mDict[\u001b[38;5;28mstr\u001b[39m, \u001b[43mhttpcore\u001b[49m\u001b[38;5;241;43m.\u001b[39;49m\u001b[43mSyncHTTPTransport\u001b[49m] \u001b[38;5;241m=\u001b[39m \u001b[38;5;28;01mNone\u001b[39;00m,\n\u001b[0;32m     63\u001b[0m                  timeout: Timeout \u001b[38;5;241m=\u001b[39m \u001b[38;5;28;01mNone\u001b[39;00m,\n\u001b[0;32m     64\u001b[0m                  http2\u001b[38;5;241m=\u001b[39m\u001b[38;5;28;01mTrue\u001b[39;00m,\n\u001b[0;32m     65\u001b[0m                  use_fallback\u001b[38;5;241m=\u001b[39m\u001b[38;5;28;01mFalse\u001b[39;00m):\n\u001b[0;32m     67\u001b[0m         \u001b[38;5;28mself\u001b[39m\u001b[38;5;241m.\u001b[39mclient \u001b[38;5;241m=\u001b[39m httpx\u001b[38;5;241m.\u001b[39mClient(http2\u001b[38;5;241m=\u001b[39mhttp2)\n\u001b[0;32m     68\u001b[0m         \u001b[38;5;28;01mif\u001b[39;00m proxies \u001b[38;5;129;01mis\u001b[39;00m \u001b[38;5;129;01mnot\u001b[39;00m \u001b[38;5;28;01mNone\u001b[39;00m:  \u001b[38;5;66;03m# pragma: nocover\u001b[39;00m\n",
      "\u001b[1;31mAttributeError\u001b[0m: module 'httpcore' has no attribute 'SyncHTTPTransport'"
     ]
    }
   ],
   "source": [
    "from googletrans import Translator\n",
    "\n",
    "translator = Translator()\n",
    "#간단한 텍스트 번역하기\n",
    "text='나는 한국인이다.'\n",
    "cn_result= translator.translate(text, dest='zh-cn')\n",
    "\n",
    "#번역한 중국어를 다시 한국어로 바꿔보기\n",
    "ko_result = translator.translate(cn_result.text, dest='ko')\n",
    "print(cn_result.text) #我是韩国人。\n",
    "print(ko_result.text) #나는 한국인이다."
   ]
  },
  {
   "cell_type": "code",
   "execution_count": null,
   "metadata": {},
   "outputs": [],
   "source": [
    "## googletrans 는 버전 문제로 안됨."
   ]
  },
  {
   "cell_type": "code",
   "execution_count": null,
   "metadata": {},
   "outputs": [],
   "source": [
    "!pip install deep-translator"
   ]
  },
  {
   "cell_type": "code",
   "execution_count": 10,
   "metadata": {},
   "outputs": [
    {
     "name": "stdout",
     "output_type": "stream",
     "text": [
      "안녕하세요. 어떻게 지내세요?\n"
     ]
    }
   ],
   "source": [
    "from deep_translator import GoogleTranslator\n",
    "\n",
    "# GoogleTranslator를 사용하여 간단한 번역\n",
    "translator = GoogleTranslator(source='auto', target='ko')\n",
    "translated_text = translator.translate(\"Hello, how are you?\")\n",
    "print(translated_text)"
   ]
  },
  {
   "cell_type": "code",
   "execution_count": 11,
   "metadata": {},
   "outputs": [
    {
     "name": "stdout",
     "output_type": "stream",
     "text": [
      "어린 소년은 개울가에서 장난기 많은 소녀를 자주 만나 그녀에게 흥미를 느낀다. 그녀가 그에게 돌멩이를 던지고 사라진 후, 그는 점점 공허함을 느끼고 그녀의 행동을 따라하기 시작한다. 그들은 나중에 시골을 탐험하며 순간을 공유하고 식물에 대해 이야기한다. 소년은 소녀가 다친 후 그녀를 돕고 폭풍우 속에서 피난처를 찾으며 유대감을 더욱 돈독하게 한다. 소녀가 병에 걸렸음에도 불구하고 그들은 계속 만나 추억을 회상한다. 소녀는 가족이 재정적 어려움으로 이사한다고 밝히고, 소년은 제대로 작별 인사를 하지 않은 것을 후회한다. 그는 어른들로부터 윤 가족의 불행에 대해 듣는데, 여기에는 유일한 증손녀를 잃은 일도 포함되는데, 그 소녀는 자신의 옷을 입고 묻히기를 원했다.\n"
     ]
    }
   ],
   "source": [
    "translated_text = translator.translate(summary['output_text'])\n",
    "print(translated_text)"
   ]
  },
  {
   "cell_type": "code",
   "execution_count": null,
   "metadata": {},
   "outputs": [],
   "source": []
  }
 ],
 "metadata": {
  "kernelspec": {
   "display_name": "ragstudy-L89wIJFw-py3.11",
   "language": "python",
   "name": "python3"
  },
  "language_info": {
   "codemirror_mode": {
    "name": "ipython",
    "version": 3
   },
   "file_extension": ".py",
   "mimetype": "text/x-python",
   "name": "python",
   "nbconvert_exporter": "python",
   "pygments_lexer": "ipython3",
   "version": "3.11.9"
  }
 },
 "nbformat": 4,
 "nbformat_minor": 2
}
