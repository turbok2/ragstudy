{
 "cells": [
  {
   "cell_type": "code",
   "execution_count": 9,
   "metadata": {},
   "outputs": [
    {
     "data": {
      "text/plain": [
       "True"
      ]
     },
     "execution_count": 9,
     "metadata": {},
     "output_type": "execute_result"
    }
   ],
   "source": [
    "import os\n",
    "from dotenv import load_dotenv\n",
    "# API KEY 정보 불러오기\n",
    "load_dotenv()"
   ]
  },
  {
   "cell_type": "code",
   "execution_count": 2,
   "metadata": {},
   "outputs": [],
   "source": [
    "# pdf 읽고, 분할하기\n",
    "from langchain.document_loaders import PyPDFLoader\n",
    "\n",
    "loader = PyPDFLoader(\"./data/소나기 - 황순원.pdf\") \n",
    "docs = loader.load_and_split()"
   ]
  },
  {
   "cell_type": "code",
   "execution_count": 3,
   "metadata": {},
   "outputs": [
    {
     "name": "stderr",
     "output_type": "stream",
     "text": [
      "C:\\Users\\turbo\\AppData\\Local\\Temp\\ipykernel_25004\\3166974988.py:6: LangChainDeprecationWarning: The method `Chain.run` was deprecated in langchain 0.1.0 and will be removed in 1.0. Use invoke instead.\n",
      "  summary = chain.run(docs)\n"
     ]
    },
    {
     "name": "stdout",
     "output_type": "stream",
     "text": [
      "A young boy frequently encounters a girl at a stream and becomes intrigued by her. They eventually explore the countryside together, sharing carefree adventures and moments of connection. The boy helps the girl when she injures herself, and they seek shelter during a storm, deepening their bond. The girl falls ill but recovers, and they meet again, sharing dates and discussing her family's impending move due to financial difficulties. The boy, feeling a mix of emotions, gathers walnuts for her and learns her family is relocating to a nearby town. Later, he overhears that the Yoon family, including the girl, has faced significant misfortunes, including the loss of their only great-grandchild.\n"
     ]
    }
   ],
   "source": [
    "# 내용 정리하기 \n",
    "from langchain_openai import ChatOpenAI\n",
    "from langchain.chains.summarize import load_summarize_chain\n",
    "\n",
    "llm = ChatOpenAI(temperature=0,model_name='gpt-4o')\n",
    "chain = load_summarize_chain(llm, chain_type=\"map_reduce\")\n",
    "summary = chain.run(docs)\n",
    "print(summary)"
   ]
  },
  {
   "cell_type": "code",
   "execution_count": 5,
   "metadata": {},
   "outputs": [
    {
     "name": "stdout",
     "output_type": "stream",
     "text": [
      "A young boy frequently encounters a playful girl at a stream and becomes intrigued by her. They eventually explore the countryside together, sharing moments of adventure and bonding. The girl falls ill after a rainy day, and upon recovering, informs the boy that her family is moving away due to financial difficulties. The boy, feeling a mix of emotions, regrets not saying a proper goodbye. He later learns that the girl's family is relocating to a nearby town. A child overhears a conversation revealing the tragic misfortunes of the Yoon family, including the recent death of their only great-grandchild, a girl who had been ill and wished to be buried in her own clothes.\n"
     ]
    }
   ],
   "source": [
    "# 내용 정리하기 - invoke 사용\n",
    "from langchain_openai import ChatOpenAI\n",
    "from langchain.chains.summarize import load_summarize_chain\n",
    "\n",
    "llm = ChatOpenAI(temperature=0,model_name='gpt-4o')\n",
    "chain = load_summarize_chain(llm, chain_type=\"map_reduce\")\n",
    "\n",
    "summary = chain.invoke(docs)\n",
    "print(summary['output_text'])"
   ]
  },
  {
   "cell_type": "markdown",
   "metadata": {},
   "source": [
    "### 번역 : DEEPL API 사용"
   ]
  },
  {
   "cell_type": "code",
   "execution_count": 7,
   "metadata": {},
   "outputs": [
    {
     "name": "stdout",
     "output_type": "stream",
     "text": [
      "안녕하세요, 세상 여러분!\n"
     ]
    }
   ],
   "source": [
    "import deepl\n",
    "\n",
    "auth_key = os.getenv(\"DEEPL_API_KEY\")\n",
    "translator = deepl.Translator(auth_key)\n",
    "result = translator.translate_text(\"Hello, world!\", target_lang=\"KO\")\n",
    "print(result.text)"
   ]
  },
  {
   "cell_type": "code",
   "execution_count": 8,
   "metadata": {},
   "outputs": [
    {
     "name": "stdout",
     "output_type": "stream",
     "text": [
      "[영문]: A young boy frequently encounters a playful girl at a stream and becomes intrigued by her. They eventually explore the countryside together, sharing moments of adventure and bonding. The girl falls ill after a rainy day, and upon recovering, informs the boy that her family is moving away due to financial difficulties. The boy, feeling a mix of emotions, regrets not saying a proper goodbye. He later learns that the girl's family is relocating to a nearby town. A child overhears a conversation revealing the tragic misfortunes of the Yoon family, including the recent death of their only great-grandchild, a girl who had been ill and wished to be buried in her own clothes.\n",
      "\n",
      "[한글]: 어린 소년은 개울가에서 장난기 가득한 소녀를 자주 만나고 그녀에게 흥미를 느낍니다. 둘은 결국 함께 시골을 탐험하며 모험과 유대감을 나누는 시간을 보내게 됩니다. 비 오는 날 소녀는 병에 걸리고, 회복되자마자 소년에게 경제적 어려움으로 인해 가족이 이사를 간다고 말합니다. 만감이 교차하는 소년은 제대로 작별 인사를 하지 못한 것을 후회합니다. 나중에 소년은 소녀의 가족이 인근 마을로 이사한다는 사실을 알게 됩니다. 소년은 우연히 대화를 엿듣게 되고, 윤씨 가족의 하나뿐인 증손녀가 병에 걸려 자신의 옷에 묻히길 원했던 소녀의 죽음 등 윤씨 가족의 비극적인 불행이 드러나는 이야기를 듣게 됩니다.\n"
     ]
    }
   ],
   "source": [
    "print(f\"[영문]: {summary['output_text']}\\n\")\n",
    "translator = deepl.Translator(auth_key)\n",
    "result = translator.translate_text(summary['output_text'], target_lang=\"KO\")\n",
    "print(f\"[한글]: {result.text}\")"
   ]
  },
  {
   "cell_type": "markdown",
   "metadata": {},
   "source": [
    "### google 번역 API"
   ]
  },
  {
   "cell_type": "code",
   "execution_count": null,
   "metadata": {},
   "outputs": [],
   "source": [
    "!pip install googletrans==4.0.0-rc.1"
   ]
  },
  {
   "cell_type": "code",
   "execution_count": null,
   "metadata": {},
   "outputs": [],
   "source": [
    "from googletrans import Translator\n",
    "\n",
    "translator = Translator()\n",
    "#간단한 텍스트 번역하기\n",
    "text='나는 한국인이다.'\n",
    "cn_result= translator.translate(text, dest='zh-cn')\n",
    "\n",
    "#번역한 중국어를 다시 한국어로 바꿔보기\n",
    "ko_result = translator.translate(cn_result.text, dest='ko')\n",
    "print(cn_result.text) #我是韩国人。\n",
    "print(ko_result.text) #나는 한국인이다."
   ]
  },
  {
   "cell_type": "code",
   "execution_count": null,
   "metadata": {},
   "outputs": [],
   "source": [
    "## googletrans 는 버전 문제로 안됨."
   ]
  },
  {
   "cell_type": "code",
   "execution_count": null,
   "metadata": {},
   "outputs": [],
   "source": [
    "!pip install deep-translator"
   ]
  },
  {
   "cell_type": "code",
   "execution_count": 13,
   "metadata": {},
   "outputs": [
    {
     "name": "stdout",
     "output_type": "stream",
     "text": [
      "안녕하세요. 어떻게 지내세요?\n"
     ]
    }
   ],
   "source": [
    "from deep_translator import GoogleTranslator\n",
    "\n",
    "# GoogleTranslator를 사용하여 간단한 번역\n",
    "translator = GoogleTranslator(source='auto', target='ko')\n",
    "translated_text = translator.translate(\"Hello, how are you?\")\n",
    "print(translated_text)"
   ]
  },
  {
   "cell_type": "code",
   "execution_count": 14,
   "metadata": {},
   "outputs": [
    {
     "name": "stdout",
     "output_type": "stream",
     "text": [
      "어린 소년은 개울가에서 장난기 많은 소녀를 자주 만나 그녀에게 흥미를 느낀다. 그들은 결국 시골을 함께 탐험하며 모험과 유대감을 공유한다. 소녀는 비오는 날 병이 나고, 회복되자 소년에게 재정적 어려움으로 가족이 이사를 간다고 말한다. 소년은 여러 가지 감정을 느끼며 제대로 작별 인사를 하지 않은 것을 후회한다. 그는 나중에 소녀의 가족이 인근 마을로 이사를 간다는 것을 알게 된다. 어린아이가 윤 가족의 비극적인 불행을 폭로하는 대화를 우연히 듣는데, 그 중에는 최근 유일한 증손녀가 죽었다는 것도 포함된다. 증손녀는 병을 앓고 있었고 자신의 옷을 입은 채로 묻히기를 원했다.\n"
     ]
    }
   ],
   "source": [
    "translated_text = translator.translate(summary['output_text'])\n",
    "print(translated_text)"
   ]
  }
 ],
 "metadata": {
  "kernelspec": {
   "display_name": "ragstudy-L89wIJFw-py3.11",
   "language": "python",
   "name": "python3"
  },
  "language_info": {
   "codemirror_mode": {
    "name": "ipython",
    "version": 3
   },
   "file_extension": ".py",
   "mimetype": "text/x-python",
   "name": "python",
   "nbconvert_exporter": "python",
   "pygments_lexer": "ipython3",
   "version": "3.11.9"
  }
 },
 "nbformat": 4,
 "nbformat_minor": 2
}
