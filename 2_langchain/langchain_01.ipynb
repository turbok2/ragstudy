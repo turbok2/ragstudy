{
 "cells": [
  {
   "cell_type": "code",
   "execution_count": 1,
   "metadata": {},
   "outputs": [
    {
     "data": {
      "text/plain": [
       "True"
      ]
     },
     "execution_count": 1,
     "metadata": {},
     "output_type": "execute_result"
    }
   ],
   "source": [
    "from dotenv import load_dotenv\n",
    "# API KEY 정보 불러오기\n",
    "load_dotenv()"
   ]
  },
  {
   "cell_type": "code",
   "execution_count": 2,
   "metadata": {},
   "outputs": [
    {
     "name": "stderr",
     "output_type": "stream",
     "text": [
      "C:\\Users\\turbo\\AppData\\Local\\Temp\\ipykernel_22728\\1771357266.py:2: LangChainDeprecationWarning: The class `OpenAI` was deprecated in LangChain 0.0.10 and will be removed in 1.0. An updated version of the class exists in the langchain-openai package and should be used instead. To use it run `pip install -U langchain-openai` and import as `from langchain_openai import OpenAI`.\n",
      "  llm = OpenAI(temperature=0.9)\n",
      "C:\\Users\\turbo\\AppData\\Local\\Temp\\ipykernel_22728\\1771357266.py:4: LangChainDeprecationWarning: The method `BaseLLM.__call__` was deprecated in langchain-core 0.1.7 and will be removed in 1.0. Use invoke instead.\n",
      "  print(llm(prompt))\n"
     ]
    },
    {
     "name": "stdout",
     "output_type": "stream",
     "text": [
      "\n",
      "\n",
      "Langchain은 언어에 대한 기술적 지식을 모아 블록체인 기술과 결합하여 언어 데이터의 보안, 무결성, 투명성 및 효율성을 보장하는 분산 네트워크 시스템입니다. 이 프로젝트는 언어 데이터의 유효성을 검증하고 검증된 데이터에 대한 보상 제도를 제공하여 신뢰성 있는 언어 데이터의 생성 및 교환을 가능하게 합니다. 이를 통해 언어 데이터의 공유와 활용이 증가하고 언어 데이터를 기반으로 한 다양한 언어 기술의 발전을 촉진할 수 있습니다. 또한 Langchain은 언어에 대한 지식의 불균형을 해결하고 언어에 대한 다양한 관점과 지식을 공유하는\n"
     ]
    }
   ],
   "source": [
    "from langchain.llms import OpenAI\n",
    "llm = OpenAI(temperature=0.9)\n",
    "prompt = \"Langchain이란 무엇인가?\"\n",
    "print(llm(prompt))"
   ]
  },
  {
   "cell_type": "code",
   "execution_count": null,
   "metadata": {},
   "outputs": [],
   "source": []
  }
 ],
 "metadata": {
  "kernelspec": {
   "display_name": "ragstudy-L89wIJFw-py3.11",
   "language": "python",
   "name": "python3"
  },
  "language_info": {
   "codemirror_mode": {
    "name": "ipython",
    "version": 3
   },
   "file_extension": ".py",
   "mimetype": "text/x-python",
   "name": "python",
   "nbconvert_exporter": "python",
   "pygments_lexer": "ipython3",
   "version": "3.11.9"
  }
 },
 "nbformat": 4,
 "nbformat_minor": 2
}
