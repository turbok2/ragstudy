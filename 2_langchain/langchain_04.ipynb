{
 "cells": [
  {
   "cell_type": "code",
   "execution_count": 5,
   "metadata": {},
   "outputs": [
    {
     "data": {
      "text/plain": [
       "True"
      ]
     },
     "execution_count": 5,
     "metadata": {},
     "output_type": "execute_result"
    }
   ],
   "source": [
    "# API KEY를 환경변수로 관리하기 위한 설정 파일\n",
    "from dotenv import load_dotenv\n",
    "\n",
    "# API KEY 정보로드\n",
    "load_dotenv()"
   ]
  },
  {
   "cell_type": "code",
   "execution_count": null,
   "metadata": {},
   "outputs": [],
   "source": [
    "!pip install google-generativeai"
   ]
  },
  {
   "cell_type": "markdown",
   "metadata": {},
   "source": [
    "### Gemini API 사용"
   ]
  },
  {
   "cell_type": "code",
   "execution_count": 6,
   "metadata": {},
   "outputs": [
    {
     "name": "stdout",
     "output_type": "stream",
     "text": [
      "**내행성 (태양에 가까운 행성)**\n",
      "\n",
      "* **수성:** 가장 작고 태양에 가장 가까운 행성. 극심한 온도 차이와 금속성 핵을 가지고 있음.\n",
      "* **금성:** \"아침별\" 또는 \"저녁별\"로 알려진 지구와 크기가 비슷한 행성. 두꺼운 이산화탄소 대기를 가지고 있으며, 가장 뜨거운 행성임.\n",
      "* **지구:** 생명체가 존재하는 유일한 알려진 행성. 물로 덮여 있고, 대기와 자기권을 가지고 있음.\n",
      "* **화성:** \"붉은 행성\"으로 알려진 지구와 크기가 비슷한 행성. 얇은 대기를 가지고 있으며, 과거에 물이 흘렀을 증거가 있음.\n",
      "\n",
      "**외행성 (태양에서 먼 행성)**\n",
      "\n",
      "* **목성:** 태양계에서 가장 크고 무거운 행성. 기체 거인으로 주로 수소와 헬륨으로 구성되어 있음. 강한 자기권과 거대한 폭풍인 대적점을 가지고 있음.\n",
      "* **토성:** 목성 다음으로 크고 무거운 행성. 또한 기체 거인이며, 눈에 띄는 고리 시스템을 가지고 있음.\n",
      "* **천왕성:** 얼음 거인으로 알려진 첫 번째 행성. 주로 수소, 헬륨, 메탄으로 구성되어 있음. 독특한 위도비대칭 자기권을 가지고 있음.\n",
      "* **해왕성:** 천왕성 다음으로 큰 얼음 거인. 또한 수소, 헬륨, 메탄으로 구성되어 있음. 강한 바람과 강렬한 폭풍을 가지고 있음.\n",
      "\n",
      "**왜소행성**\n",
      "\n",
      "왜소행성은 태양을 공전하지만 행성이 아닌 천체입니다. 태양계에는 5개의 공인 왜소행성이 있습니다.\n",
      "\n",
      "* 플루토\n",
      "* 에리스\n",
      "* 세레스\n",
      "* 마케마케\n",
      "* 하우메아\n"
     ]
    }
   ],
   "source": [
    "import google.generativeai as genai\n",
    " \n",
    "GOOGLE_API_KEY=\"발급받은 Gemini API Key 입력\"\n",
    " \n",
    "genai.configure()\n",
    " \n",
    "model = genai.GenerativeModel('gemini-pro')\n",
    " \n",
    "response = model.generate_content(\"태양계 행성의 종류에 대하여 알려줘\")\n",
    " \n",
    "print(response.text)"
   ]
  },
  {
   "cell_type": "markdown",
   "metadata": {},
   "source": [
    "### langchain 사용"
   ]
  },
  {
   "cell_type": "code",
   "execution_count": 3,
   "metadata": {},
   "outputs": [
    {
     "name": "stdout",
     "output_type": "stream",
     "text": [
      "**태양계 행성의 종류**\n",
      "\n",
      "태양계는 태양과 그를 도는 천체로 구성되어 있습니다. 태양계 행성은 크게 두 가지 유형으로 나눌 수 있습니다.\n",
      "\n",
      "**1. 내부 행성**\n",
      "\n",
      "내부 행성은 태양에서 가까운 4개의 행성으로, 다음과 같습니다.\n",
      "\n",
      "* **수성:** 태양계에서 가장 작고 가장 가까운 행성\n",
      "* **금성:** 태양계에서 두 번째로 가까운 행성으로, 지구와 크기와 질량이 비슷함\n",
      "* **지구:** 유일하게 생명체가 알려진 행성\n",
      "* **화성:** \"붉은 행성\"으로 알려져 있고, 지구에 가장 유사한 행성\n",
      "\n",
      "**2. 외부 행성**\n",
      "\n",
      "외부 행성은 태양에서 멀리 떨어진 4개의 행성으로, 다음과 같습니다.\n",
      "\n",
      "**가스 거성**\n",
      "\n",
      "* **목성:** 태양계에서 가장 크고 무거운 행성으로, 주로 수소와 헬륨으로 구성되어 있음\n",
      "* **토성:** 목성 다음으로 크고, 눈에 띄는 고리로 유명함\n",
      "\n",
      "**얼음 거성**\n",
      "\n",
      "* **천왕성:** 태양에서 일곱 번째 행성으로, 얼음과 암석으로 구성되어 있음\n",
      "* **해왕성:** 태양에서 여덟 번째 행성으로, 천왕성과 유사한 구성을 가지고 있음\n",
      "\n",
      "**왜소 행성**\n",
      "\n",
      "왜소 행성은 태양을 도는 천체이지만, 다음과 같은 기준을 충족하지 않는 행성입니다.\n",
      "\n",
      "* 공전 궤도가 다른 천체에 의해 지배되지 않음\n",
      "* 구형이 아님\n",
      "\n",
      "태양계에서 가장 잘 알려진 왜소 행성은 다음과 같습니다.\n",
      "\n",
      "* **명왕성:** 이전에는 행성으로 분류되었지만, 2006년에 왜소 행성으로 재분류됨\n",
      "* **에리스:** 명왕성보다 약간 더 큰 왜소 행성\n",
      "* **세드나:** 태양에서 가장 멀리 떨어진 알려진 왜소 행성\n"
     ]
    }
   ],
   "source": [
    "from langchain_google_genai import ChatGoogleGenerativeAI\n",
    "\n",
    "llm = ChatGoogleGenerativeAI(model=\"gemini-pro\")\n",
    "\n",
    "# 텍스트 생성\n",
    "result = llm.invoke(\"태양계 행성의 종류에 대하여 알려줘\")\n",
    "print(result.content)"
   ]
  },
  {
   "cell_type": "code",
   "execution_count": 7,
   "metadata": {},
   "outputs": [
    {
     "name": "stdout",
     "output_type": "stream",
     "text": [
      "**내행성 (암석 행성)**\n",
      "\n",
      "* **수성:**\n",
      " 태양계에서 가장 작고 가장 가까운 행성\n",
      "* **금성:** 지구의 쌍둥이 행성으로, 태양\n",
      "계에서 가장 뜨거운 행성\n",
      "* **지구:** 생명체가 거주하는 유일한 알려진 행성\n",
      "* **화성:** \"붉은 행성\"으로 알려져 있으며, 탐사에서 많은 관심을 받고 있음\n",
      "\n",
      "**외행\n",
      "성 (가스 거대 행성)**\n",
      "\n",
      "* **목성:** 태양계에서 가장 크고 가장 무거운 행성\n",
      "* **토성:** 고리가 유명하며, 태양계에서 가장 아름다운 행성 중 하나로 여겨짐\n",
      "* **천왕성:** 옆으로 기울어진 축으로 인해 극심한 계절 변화를 겪음\n",
      "* **해왕성:** 태양계에서 가장 먼 행성이며, 극도로 강한 바람과 폭풍을 지닌다\n",
      "\n",
      "**왜소행성**\n",
      "\n",
      "\n",
      "* **명왕성:** 이전에는 9번째 행성으로 분류되었지만, 2006년에 왜소행성으로 재분류됨\n",
      "* **에리스:** 명왕성보다 약간 더 큰 왜소행성\n",
      "* **세드나:** 극도로 긴 궤도를 가진 왜소행성, \"은둔자 행성\"으로 알려짐\n",
      "* **마케마케:** 명왕성과 유사한 표면을 가진 왜소행성\n",
      "\n",
      "**특징적 천체**\n",
      "\n",
      "* **카이퍼 대:** 왜소행성과 혜성이 많은 지역, 태양계 바깥쪽 가장자리에 위치함\n",
      "* **오르트 구름:** 태양계에서 가장 먼 지역으로, 장주기 혜성의 원천으로 여겨짐\n"
     ]
    }
   ],
   "source": [
    "# 스트리밍\n",
    "for chunk in llm.stream(\"태양계 행성의 종류에 대하여 알려줘\"):\n",
    "    print(chunk.content)"
   ]
  },
  {
   "cell_type": "code",
   "execution_count": null,
   "metadata": {},
   "outputs": [],
   "source": []
  }
 ],
 "metadata": {
  "kernelspec": {
   "display_name": "langchain-kr-7isGpkAn-py3.11",
   "language": "python",
   "name": "python3"
  },
  "language_info": {
   "codemirror_mode": {
    "name": "ipython",
    "version": 3
   },
   "file_extension": ".py",
   "mimetype": "text/x-python",
   "name": "python",
   "nbconvert_exporter": "python",
   "pygments_lexer": "ipython3",
   "version": "3.11.9"
  }
 },
 "nbformat": 4,
 "nbformat_minor": 2
}
