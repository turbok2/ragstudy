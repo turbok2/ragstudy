{
 "cells": [
  {
   "cell_type": "markdown",
   "id": "a224fd32",
   "metadata": {},
   "source": [
    "API KEY 를 설정합니다.\n"
   ]
  },
  {
   "cell_type": "code",
   "execution_count": 1,
   "id": "418ab505",
   "metadata": {},
   "outputs": [
    {
     "data": {
      "text/plain": [
       "True"
      ]
     },
     "execution_count": 1,
     "metadata": {},
     "output_type": "execute_result"
    }
   ],
   "source": [
    "# API 키를 환경변수로 관리하기 위한 설정 파일\n",
    "from dotenv import load_dotenv\n",
    "\n",
    "# API 키 정보 로드\n",
    "load_dotenv()"
   ]
  },
  {
   "cell_type": "code",
   "execution_count": null,
   "id": "44f03105",
   "metadata": {},
   "outputs": [],
   "source": [
    "import os\n",
    "from langchain_teddynote import logging\n",
    "\n",
    "# 프로젝트 이름을 입력합니다.\n",
    "logging.langsmith(\"ragstudy\")"
   ]
  },
  {
   "cell_type": "markdown",
   "id": "f8444e43",
   "metadata": {},
   "source": [
    "## 전체 코드"
   ]
  },
  {
   "cell_type": "code",
   "execution_count": 2,
   "id": "adc45dbf",
   "metadata": {},
   "outputs": [],
   "source": [
    "from langchain_text_splitters import RecursiveCharacterTextSplitter\n",
    "from langchain_community.document_loaders import PyMuPDFLoader\n",
    "from langchain_community.vectorstores import FAISS\n",
    "from langchain_core.output_parsers import StrOutputParser\n",
    "from langchain_core.runnables import RunnablePassthrough\n",
    "from langchain_core.prompts import PromptTemplate\n",
    "from langchain_openai import ChatOpenAI, OpenAIEmbeddings\n",
    "\n",
    "# 단계 1: 문서 로드(Load Documents)\n",
    "pdf_filename = \"data/[KISTEP+브리프]+‘생성형+인공지능’+시대의+10대+미래유망기술.pdf\"\n",
    "loader = PyMuPDFLoader(pdf_filename)\n",
    "docs = loader.load()\n",
    "\n",
    "# 단계 2: 문서 분할(Split Documents)\n",
    "text_splitter = RecursiveCharacterTextSplitter(chunk_size=1000, chunk_overlap=50)\n",
    "split_documents = text_splitter.split_documents(docs)\n",
    "\n",
    "# 단계 3: 임베딩(Embedding) 생성\n",
    "embeddings = OpenAIEmbeddings()\n",
    "\n",
    "# 단계 4: DB 생성(Create DB) 및 저장\n",
    "# 벡터스토어를 생성합니다.\n",
    "vectorstore = FAISS.from_documents(documents=split_documents, embedding=embeddings)\n",
    "\n",
    "# 단계 5: 검색기(Retriever) 생성\n",
    "# 문서에 포함되어 있는 정보를 검색하고 생성합니다.\n",
    "retriever = vectorstore.as_retriever()\n",
    "\n",
    "# 단계 6: 프롬프트 생성(Create Prompt)\n",
    "# 프롬프트를 생성합니다.\n",
    "prompt = PromptTemplate.from_template(\n",
    "    \"\"\"You are an assistant for question-answering tasks. \n",
    "Use the following pieces of retrieved context to answer the question. \n",
    "If you don't know the answer, just say that you don't know. \n",
    "Answer in Korean.\n",
    "\n",
    "#Question: \n",
    "{question} \n",
    "#Context: \n",
    "{context} \n",
    "\n",
    "#Answer:\"\"\"\n",
    ")\n",
    "\n",
    "# 단계 7: 언어모델(LLM) 생성\n",
    "# 모델(LLM) 을 생성합니다.\n",
    "llm = ChatOpenAI(model_name=\"gpt-4o\", temperature=0)\n",
    "\n",
    "# 단계 8: 체인(Chain) 생성\n",
    "chain = (\n",
    "    {\"context\": retriever, \"question\": RunnablePassthrough()}\n",
    "    | prompt\n",
    "    | llm\n",
    "    | StrOutputParser()\n",
    ")"
   ]
  },
  {
   "cell_type": "code",
   "execution_count": 3,
   "id": "c5986cab",
   "metadata": {},
   "outputs": [
    {
     "name": "stdout",
     "output_type": "stream",
     "text": [
      "신경망처리 기반 인공지능 전용칩은 기계학습 모델을 구축하여 인공지능 소프트웨어를 구현하기 위해 특화 설계된 시스템온칩 반도체입니다. 이 중 신경처리장치(NPU, Neural Processing Unit)는 딥뉴럴 네트워크와 관련된 인공지능과 머신러닝 작업을 가속시키는 하드웨어입니다. 이러한 칩은 뉴로모픽 컴퓨팅, 추론/학습 및 분야별 활용기술, NPU 하드웨어 및 소프트웨어 최적화 기술을 포함합니다.\n",
      "\n",
      "뉴로모픽 컴퓨팅은 인간 뇌의 신경망 구조와 기능에 영감을 받아 컴퓨팅 시스템을 설계하고 구축하는 인공지능 컴퓨팅의 특화된 분야입니다. NPU 하드웨어 및 소프트웨어 최적화 기술은 NPU 하드웨어를 효율적으로 실행하고 활용하기 위한 프로그램, 라이브러리 및 프레임워크를 포함하여 전체적인 최적화를 달성하는 기술입니다.\n",
      "\n",
      "이러한 신경망처리 기반 인공지능 전용칩은 로봇공학, 센서 시스템, 뇌-컴퓨터 인터페이스 등 다양한 분야에서 높은 에너지 효율성, 실시간 처리 및 인지 능력이 필요한 업무에 대응할 수 있습니다. 2030년쯤에는 멀티모달 수준의 복잡성을 극복하면서 설명 가능하고 신뢰 가능한 인공지능 기술 단계로 성숙할 것으로 전망됩니다.\n"
     ]
    }
   ],
   "source": [
    "# 체인 실행(Run Chain)\n",
    "# 문서에 대한 질의를 입력하고, 답변을 출력합니다.\n",
    "question = \"신경망처리 기반 인공지능 전용칩에 대해 설명해주세요.\"  # 20페이지\n",
    "response = chain.invoke(question)\n",
    "print(response)"
   ]
  },
  {
   "cell_type": "code",
   "execution_count": 4,
   "id": "e13812fb",
   "metadata": {},
   "outputs": [
    {
     "name": "stdout",
     "output_type": "stream",
     "text": [
      "지능형 개인 맞춤 서비스 인공지능 기술의 요소기술은 다음과 같습니다:\n",
      "1. 머신러닝 및 딥러닝\n",
      "2. 자연어처리\n",
      "3. 추천시스템\n",
      "4. 데이터 분석\n"
     ]
    }
   ],
   "source": [
    "# 체인 실행(Run Chain)\n",
    "# 문서에 대한 질의를 입력하고, 답변을 출력합니다.\n",
    "question = \"지능형 개인 맞춤 서비스 인공지능 기술의 요소기술은?\"  # 22페이지\n",
    "response = chain.invoke(question)\n",
    "print(response)"
   ]
  }
 ],
 "metadata": {
  "kernelspec": {
   "display_name": "py-test",
   "language": "python",
   "name": "python3"
  },
  "language_info": {
   "codemirror_mode": {
    "name": "ipython",
    "version": 3
   },
   "file_extension": ".py",
   "mimetype": "text/x-python",
   "name": "python",
   "nbconvert_exporter": "python",
   "pygments_lexer": "ipython3",
   "version": "3.11.9"
  }
 },
 "nbformat": 4,
 "nbformat_minor": 5
}
