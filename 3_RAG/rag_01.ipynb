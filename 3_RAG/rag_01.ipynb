{
 "cells": [
  {
   "cell_type": "markdown",
   "id": "1cf05522",
   "metadata": {},
   "source": [
    "## 실습에 활용한 문서\n",
    "KISTEP 이슈페이퍼 - 통권 제361호  2024년 2월호\n",
    "- 저자: 박창현(KISTEDP R&D예산정책센터)\n",
    "- 링크: [https://www.kistep.re.kr/boardDownload.es?bid=0031&list_no=93095&seq=1](https://www.kistep.re.kr/boardDownload.es?bid=0031&list_no=93095&seq=1)\n",
    "- 파일명: `[KISTEP+브리프]+‘생성형+인공지능’+시대의+10대+미래유망기술.pdf`\n",
    "\n",
    "실습을 위해 다운로드 받은 파일을 `data` 폴더로 복사"
   ]
  },
  {
   "cell_type": "markdown",
   "id": "01c423a8",
   "metadata": {},
   "source": [
    "## 환경설정\n"
   ]
  },
  {
   "cell_type": "markdown",
   "id": "a224fd32",
   "metadata": {},
   "source": [
    "API KEY 를 설정합니다.\n"
   ]
  },
  {
   "cell_type": "code",
   "execution_count": 1,
   "id": "418ab505",
   "metadata": {},
   "outputs": [
    {
     "data": {
      "text/plain": [
       "True"
      ]
     },
     "execution_count": 1,
     "metadata": {},
     "output_type": "execute_result"
    }
   ],
   "source": [
    "# API 키를 환경변수로 관리하기 위한 설정 파일\n",
    "from dotenv import load_dotenv\n",
    "\n",
    "# API 키 정보 로드\n",
    "load_dotenv()"
   ]
  },
  {
   "cell_type": "markdown",
   "id": "9b0d050a",
   "metadata": {},
   "source": [
    "## RAG 기본 파이프라인(1~8단계)\n"
   ]
  },
  {
   "cell_type": "code",
   "execution_count": 2,
   "id": "f3d1b0fc",
   "metadata": {},
   "outputs": [],
   "source": [
    "from langchain_text_splitters import RecursiveCharacterTextSplitter\n",
    "from langchain_community.document_loaders import PyMuPDFLoader\n",
    "from langchain_community.vectorstores import FAISS\n",
    "from langchain_core.output_parsers import StrOutputParser\n",
    "from langchain_core.runnables import RunnablePassthrough\n",
    "from langchain_core.prompts import PromptTemplate\n",
    "from langchain_openai import ChatOpenAI, OpenAIEmbeddings"
   ]
  },
  {
   "cell_type": "code",
   "execution_count": 3,
   "id": "377894c9",
   "metadata": {},
   "outputs": [
    {
     "name": "stdout",
     "output_type": "stream",
     "text": [
      "문서의 페이지수: 43\n"
     ]
    }
   ],
   "source": [
    "# 단계 1: 문서 로드(Load Documents)\n",
    "pdf_filename = \"data/[KISTEP+브리프]+‘생성형+인공지능’+시대의+10대+미래유망기술.pdf\"\n",
    "loader = PyMuPDFLoader(pdf_filename)\n",
    "docs = loader.load()\n",
    "print(f\"문서의 페이지수: {len(docs)}\")"
   ]
  },
  {
   "cell_type": "code",
   "execution_count": 4,
   "id": "b48b1cbb",
   "metadata": {},
   "outputs": [
    {
     "name": "stdout",
     "output_type": "stream",
     "text": [
      "‘생성형 인공지능’ 시대의 \n",
      "10대 미래유망기술\n",
      "(KISTEP 10 Emerging Technologies in the Era of Generative Artificial Intelligence)\n",
      "박창현\n",
      "Changhyun Park\n",
      "Ⅰ. 연구 배경\n",
      "Ⅱ. 연구 절차 및 세부내용\n",
      "Ⅲ. 연구 결과\n",
      "Ⅳ. 결론 및 시사점\n",
      "[참고문헌]\n",
      "I. Research Backgrounds \n",
      "II. Research Process\n",
      "III. Results\n",
      "Ⅳ. Conclusion and Implications\n",
      "[References]\n",
      "\n"
     ]
    }
   ],
   "source": [
    "print(docs[1].page_content)"
   ]
  },
  {
   "cell_type": "code",
   "execution_count": 5,
   "id": "64d4e564",
   "metadata": {},
   "outputs": [
    {
     "data": {
      "text/plain": [
       "{'source': 'data/[KISTEP+브리프]+‘생성형+인공지능’+시대의+10대+미래유망기술.pdf',\n",
       " 'file_path': 'data/[KISTEP+브리프]+‘생성형+인공지능’+시대의+10대+미래유망기술.pdf',\n",
       " 'page': 1,\n",
       " 'total_pages': 43,\n",
       " 'format': 'PDF 1.3',\n",
       " 'title': '',\n",
       " 'author': '',\n",
       " 'subject': '',\n",
       " 'keywords': '',\n",
       " 'creator': 'PDFKit',\n",
       " 'producer': 'PDFKit',\n",
       " 'creationDate': 'D:20240214022819Z',\n",
       " 'modDate': '',\n",
       " 'trapped': ''}"
      ]
     },
     "execution_count": 5,
     "metadata": {},
     "output_type": "execute_result"
    }
   ],
   "source": [
    "docs[1].metadata"
   ]
  },
  {
   "cell_type": "code",
   "execution_count": 14,
   "id": "1b52f26a",
   "metadata": {},
   "outputs": [
    {
     "name": "stdout",
     "output_type": "stream",
     "text": [
      "분할된 청크의수: 52\n"
     ]
    }
   ],
   "source": [
    "# 단계 2: 문서 분할(Split Documents)\n",
    "text_splitter = RecursiveCharacterTextSplitter(chunk_size=1000, chunk_overlap=50)\n",
    "split_documents = text_splitter.split_documents(docs)\n",
    "print(f\"분할된 청크의수: {len(split_documents)}\")"
   ]
  },
  {
   "cell_type": "code",
   "execution_count": 15,
   "id": "1ce7cd1f",
   "metadata": {},
   "outputs": [
    {
     "name": "stdout",
     "output_type": "stream",
     "text": [
      "patent influence, and generative AI technologies with relatively high \n",
      "competitiveness in paper influence and patent influence are expected to have \n",
      "high expected results, requiring intensive investment\n"
     ]
    }
   ],
   "source": [
    "print(split_documents[10].page_content)"
   ]
  },
  {
   "cell_type": "code",
   "execution_count": 16,
   "id": "795cfec7",
   "metadata": {},
   "outputs": [],
   "source": [
    "# 단계 3: 임베딩(Embedding) 생성\n",
    "embeddings = OpenAIEmbeddings()"
   ]
  },
  {
   "cell_type": "code",
   "execution_count": 17,
   "id": "82f47754",
   "metadata": {},
   "outputs": [],
   "source": [
    "# 단계 4: DB 생성(Create DB) 및 저장\n",
    "# 벡터스토어를 생성합니다.\n",
    "vectorstore = FAISS.from_documents(documents=split_documents, embedding=embeddings)"
   ]
  },
  {
   "cell_type": "code",
   "execution_count": 18,
   "id": "838f7729",
   "metadata": {},
   "outputs": [],
   "source": [
    "# 단계 5: 검색기(Retriever) 생성\n",
    "# 문서에 포함되어 있는 정보를 검색하고 생성합니다.\n",
    "retriever = vectorstore.as_retriever()"
   ]
  },
  {
   "cell_type": "code",
   "execution_count": 19,
   "id": "1a8c3ba2",
   "metadata": {},
   "outputs": [
    {
     "data": {
      "text/plain": [
       "[Document(metadata={'source': 'data/[KISTEP+브리프]+‘생성형+인공지능’+시대의+10대+미래유망기술.pdf', 'file_path': 'data/[KISTEP+브리프]+‘생성형+인공지능’+시대의+10대+미래유망기술.pdf', 'page': 19, 'total_pages': 43, 'format': 'PDF 1.3', 'title': '', 'author': '', 'subject': '', 'keywords': '', 'creator': 'PDFKit', 'producer': 'PDFKit', 'creationDate': 'D:20240214022819Z', 'modDate': '', 'trapped': ''}, page_content='Ⅲ. 연구 결과\\n13\\n3\\n신경망처리 기반 인공지능 전용칩\\n(정의) 기계학습 모델을 구축하여 인공지능 소프트웨어 구현을 하기 위해 특화 설계된 시스템온칩 \\n반도체로, 이 중 신경처리장치(NPU, Neural Processing Unit)는 딥뉴럴 네트워크와 관련된 \\n인공지능과 머신러닝 작업을 가속시키는 하드웨어임\\n(범위) (1) 뉴로모픽 컴퓨팅, (2) 추론/학습 및 분야별 활용기술, (3) NPU 하드웨어 및 소프트웨어 \\n최적화 기술을 포함 \\n(뉴로모픽 컴퓨팅) 신경(neuro)과 형태를 갖춘(morphic)을 합친 용어 결합처럼 인간 \\n뇌의 신경망 구조와 기능에 영감을 받아 컴퓨팅 시스템을 설계하고 구축하는 인공지능 \\n컴퓨팅의 특화된 분야\\n(NPU 하드웨어 및 소프트웨어 최적화 기술) NPU 하드웨어를 효율적으로 실행하고 활용하기\\n위한 프로그램, 라이브러리 및 프레임워크를 포함하는 NPU 소프트웨어와 결합함으로써 \\n전체적인 최적화를 달성하는 기술\\n(필요성) 뉴로모픽 컴퓨팅에 기반한 NPU는 로봇공학, 센서 시스템, 뇌-컴퓨터 인터페이스 \\n등 다양한 분야에서 높은 에너지 효율성, 실시간 처리 및 인지 능력이 필요한 업무에 대응할 \\n수 있음'),\n",
       " Document(metadata={'source': 'data/[KISTEP+브리프]+‘생성형+인공지능’+시대의+10대+미래유망기술.pdf', 'file_path': 'data/[KISTEP+브리프]+‘생성형+인공지능’+시대의+10대+미래유망기술.pdf', 'page': 20, 'total_pages': 43, 'format': 'PDF 1.3', 'title': '', 'author': '', 'subject': '', 'keywords': '', 'creator': 'PDFKit', 'producer': 'PDFKit', 'creationDate': 'D:20240214022819Z', 'modDate': '', 'trapped': ''}, page_content='‘생성형 인공지능’ 시대의 10대 미래유망기술\\n14\\n(국내외 동향) 전 세계적으로 인공지능 반도체 기술에 대한 리더십 확보를 위해 정책을 \\n확대중이며, 관련 법안 제정 및 기술패권 확보를 위해 경쟁 중임\\n(한국) 인공지능 및 반도체 기술은 각각 12대 국가 필수 전략기술로 선정하여 중점 지원이 \\n진행되고 있으며, 인공지능 반도체 기술은 두 분야에 걸친 핵심 공유 기술에 해당\\n(미국) 인공지능을 포함한 반도체 전 분야에서 미국의 장기적 리더십 확보를 위한 정책을 \\n확대중이며, 차세대 반도체 경쟁력 확보를 위해 ‘미국 CHIPS 법안(CHIPS for America \\nAct)’, ‘미국 파운드리 법안(American Foundries Act)’ 등을 제정\\n(중국) 반도체 산업의 자주화 정책을 지속하고 디지털 경제의 핵심기술로 인공지능 반도체 \\n강조하면서 미국의 반도체 관련 통제에 대응하기 위한 노력을 지속\\n(2033 전망) 인간 중심으로 인공지능 기술 발전이 지속된다면 2030년 쯤에는 멀티모달 수준의 \\n복잡성을 극복하면서 설명가능하고 신뢰가능한 인공지능 기술 단계로 성숙\\n신경망처리 기반 인공지능 전용칩은 3세대 뉴로모픽 컴퓨팅 단계에 도달한 후에 차기 \\n단계로 발전하는 미래형 초저전력 고성능/대규모 인공지능 처리를 감당할 것임\\n(다른 미래유망기술과의 관계) 클라우드 기반 머신러닝 플랫폼 기술, 지능형 개인 맞춤 서비스 \\n인공지능 기술은 인공지능 전용칩 기술의 발전에 기반하여 더욱 확장되는 관계\\n클라우드 기반 머신러닝 플랫폼 기술, 지능형 개인 맞춤 서비스 인공지능 기술은 신경망처리 \\n기반 인공지능 전용 칩의 효율성과 경제성에 크게 의존함\\n(논문･특허 심층분석) 한국, 미국, 일본, 유럽(영국 포함 28개국), 중국의 최근 12년 논문 \\n및 특허 분석 결과, 기술집중도\\n5)는 한국이 가장 높고 시장확보력\\n6)은 유럽이 가장 높은 것으로 \\n조사됨'),\n",
       " Document(metadata={'source': 'data/[KISTEP+브리프]+‘생성형+인공지능’+시대의+10대+미래유망기술.pdf', 'file_path': 'data/[KISTEP+브리프]+‘생성형+인공지능’+시대의+10대+미래유망기술.pdf', 'page': 21, 'total_pages': 43, 'format': 'PDF 1.3', 'title': '', 'author': '', 'subject': '', 'keywords': '', 'creator': 'PDFKit', 'producer': 'PDFKit', 'creationDate': 'D:20240214022819Z', 'modDate': '', 'trapped': ''}, page_content='Ⅲ. 연구 결과\\n15\\n4\\n지능형 개인 맞춤 서비스 인공지능 기술\\n(정의) 개인의 상황에 맞게 인공지능이 개별적인 혜택을 제공하는 것으로 각 개인의 특성과 \\n선호, 행동 패턴 등을 분석하여 최적화된 서비스를 제공\\n(범위) 요소기술로는 (1) 머신러닝을 비롯한 딥러닝, (2) 자연어처리, (3) 추천시스템, (4) 데이터 \\n분석 등을 포함\\n(자연어처리 기술) 텍스트 인식 및 음성 인식 등을 통하여 대화형 AI를 구현하여 검색엔진 \\n및 감정 분석 등에도 활용될 수 있어서 사용자와의 소통을 통한 개인화된 서비스 제공\\n(데이터분석 기술) 서비스에 필요한 데이터 및 사용자들이 만들어낸 데이터 로그들 등 \\n거대한 데이터 집합 속에서 유용한 정보를 추출하고, 해당 정보를 학습하여 결정을 내릴 \\n수 있도록 하는 기술\\n(필요성) 지능형 개인 맞춤 서비스는 제공되는 서비스 품질의 향상과 서비스 제공자의 경쟁력 \\n강화, 고객의 만족도 증대 등의 측면에서 기여 가능\\n(국내외 동향) 전 세계적으로 국가적 차원의 정책 추진과 함께 글로벌 기업들이 지능형 개인 \\n맞춤 서비스 출시에 박차를 가하고 있음\\n(한국) 유통･마케팅, 금융, 미디어, 교육, 헬스케어, 여가 등 다양한 분야에서 관련한 서비스 \\n추진 중이며, 최근 생성 AI와 연계하여 고도화 진행'),\n",
       " Document(metadata={'source': 'data/[KISTEP+브리프]+‘생성형+인공지능’+시대의+10대+미래유망기술.pdf', 'file_path': 'data/[KISTEP+브리프]+‘생성형+인공지능’+시대의+10대+미래유망기술.pdf', 'page': 17, 'total_pages': 43, 'format': 'PDF 1.3', 'title': '', 'author': '', 'subject': '', 'keywords': '', 'creator': 'PDFKit', 'producer': 'PDFKit', 'creationDate': 'D:20240214022819Z', 'modDate': '', 'trapped': ''}, page_content='Ⅲ. 연구 결과\\n11\\n2\\n자율 이미지 및 영상 생성형 인공지능 기술\\n(정의) 생성형 인공지능 중에서 이미지와 영상을 생성하는 기술로 언어와 달리 이미지와 영상은 \\n의미적으로 다양한 가능성을 내포하기 때문에 생성 과정에서 자율적인 기능을 포함\\n(범위) 영상 정보가 가지는 다양한 해석이 가능한 특징으로 인해 (1) 시각적 정보의 해석, \\n(2) 추론, (3) 예측에 관한 기술을 포함\\n(시각적 정보의 해석) 하나의 대상을 학습하면, 대상물의 지워진 부분이나, 대상물을 다르게 \\n변형하는 것이 가능. 최근, 대상에 대한 학습과 심도 있는 이해를 바탕으로 의미적 변화를 \\n시도하는 연구가 다양하게 진행.\\n(시각적 정보의 추론) 영상 정보가 가지고 있는 불완전성을 해소하려는 방법으로 스스로 \\n명확하지 않은 부분을 다시 정확하게 보는 것에서, 다양한 요소를 다른 비중으로 비교하는 \\n등의 영상 재검토 과정\\n(필요성) 영상을 소비하던 시대에서 영상을 생성하는 시대로 전환하고 있으며 점차 개인 창작이 \\n증가하면서 시대적 변화를 견인할 것으로 예상되고, 특히 의료, 상담, 마케팅, 광고, 드라마, \\n영화와 같은 미디어가 중요한 산업에서도 많은 변화 예상\\n(국내외 동향) 전 세계적으로 기존의 언어 중심에서 영상을 포함하는 멀티 모달로 생성형 \\n인공지능 시장이 확대되고 있으나, 일부 국가에서는 규제 취지의 입법 추진')]"
      ]
     },
     "execution_count": 19,
     "metadata": {},
     "output_type": "execute_result"
    }
   ],
   "source": [
    "# retriever로 PDF내용 검색해보기\n",
    "retriever.invoke('신경망처리 기반 인공지능 전용칩에 대해 설명해주세요.')"
   ]
  },
  {
   "cell_type": "code",
   "execution_count": 20,
   "id": "3bb3e26f",
   "metadata": {},
   "outputs": [],
   "source": [
    "# 단계 6: 프롬프트 생성(Create Prompt)\n",
    "# 프롬프트를 생성합니다.\n",
    "prompt = PromptTemplate.from_template(\n",
    "    \"\"\"You are an assistant for question-answering tasks. \n",
    "Use the following pieces of retrieved context to answer the question. \n",
    "If you don't know the answer, just say that you don't know. \n",
    "You must include `page` number in your answer.\n",
    "Answer in Korean.\n",
    "\n",
    "#Question: \n",
    "{question} \n",
    "#Context: \n",
    "{context} \n",
    "\n",
    "#Answer:\"\"\"\n",
    ")"
   ]
  },
  {
   "cell_type": "code",
   "execution_count": 21,
   "id": "669ed5b7",
   "metadata": {},
   "outputs": [],
   "source": [
    "# 단계 7: 언어모델(LLM) 생성\n",
    "# 모델(LLM) 을 생성합니다.\n",
    "llm = ChatOpenAI(model_name=\"gpt-4o\", temperature=0)"
   ]
  },
  {
   "cell_type": "code",
   "execution_count": 22,
   "id": "3113bc05",
   "metadata": {},
   "outputs": [],
   "source": [
    "# 단계 8: 체인(Chain) 생성\n",
    "chain = (\n",
    "    {\"context\": retriever, \"question\": RunnablePassthrough()}\n",
    "    | prompt\n",
    "    | llm\n",
    "    | StrOutputParser()\n",
    ")"
   ]
  },
  {
   "cell_type": "markdown",
   "id": "e79f4aeb",
   "metadata": {},
   "source": [
    "생성된 체인에 쿼리(질문)을 입력하고 실행합니다."
   ]
  },
  {
   "cell_type": "code",
   "execution_count": 23,
   "id": "50d6b7f0",
   "metadata": {},
   "outputs": [
    {
     "data": {
      "text/plain": [
       "'신경망처리 기반 인공지능 전용칩은 기계학습 모델을 구축하여 인공지능 소프트웨어 구현을 위해 특화 설계된 시스템온칩 반도체입니다. 이 중 신경처리장치(NPU, Neural Processing Unit)는 딥뉴럴 네트워크와 관련된 인공지능과 머신러닝 작업을 가속시키는 하드웨어입니다. 이 기술은 뉴로모픽 컴퓨팅, 추론/학습 및 분야별 활용기술, NPU 하드웨어 및 소프트웨어 최적화 기술을 포함합니다. 뉴로모픽 컴퓨팅은 인간 뇌의 신경망 구조와 기능에 영감을 받아 컴퓨팅 시스템을 설계하고 구축하는 인공지능 컴퓨팅의 특화된 분야입니다. NPU 하드웨어 및 소프트웨어 최적화 기술은 NPU 하드웨어를 효율적으로 실행하고 활용하기 위한 프로그램, 라이브러리 및 프레임워크를 포함하여 전체적인 최적화를 달성하는 기술입니다. 이러한 기술은 로봇공학, 센서 시스템, 뇌-컴퓨터 인터페이스 등 다양한 분야에서 높은 에너지 효율성, 실시간 처리 및 인지 능력이 필요한 업무에 대응할 수 있습니다 (페이지 19).'"
      ]
     },
     "execution_count": 23,
     "metadata": {},
     "output_type": "execute_result"
    }
   ],
   "source": [
    "# 체인 실행(Run Chain)\n",
    "# 문서에 대한 질의를 입력하고, 답변을 출력합니다.\n",
    "question = \"신경망처리 기반 인공지능 전용칩에 대해 설명해주세요.\" # 20페이지\n",
    "response = chain.invoke(question)\n",
    "# print(response)\n",
    "response"
   ]
  },
  {
   "cell_type": "code",
   "execution_count": 17,
   "id": "9a181ba0",
   "metadata": {},
   "outputs": [
    {
     "name": "stdout",
     "output_type": "stream",
     "text": [
      "지능형 개인 맞춤 서비스 인공지능 기술의 요소기술로는 (1) 머신러닝을 비롯한 딥러닝, (2) 자연어처리, (3) 추천시스템, (4) 데이터 분석 등이 포함됩니다 (page 21).\n"
     ]
    }
   ],
   "source": [
    "# 체인 실행(Run Chain)\n",
    "# 문서에 대한 질의를 입력하고, 답변을 출력합니다.\n",
    "question = \"지능형 개인 맞춤 서비스 인공지능 기술의 요소기술은?\"  #22페이지\n",
    "response = chain.invoke(question)\n",
    "print(response)"
   ]
  },
  {
   "cell_type": "markdown",
   "id": "f8444e43",
   "metadata": {},
   "source": [
    "## 전체 코드"
   ]
  },
  {
   "cell_type": "code",
   "execution_count": null,
   "id": "adc45dbf",
   "metadata": {},
   "outputs": [],
   "source": [
    "from langchain_text_splitters import RecursiveCharacterTextSplitter\n",
    "from langchain_community.document_loaders import PyMuPDFLoader\n",
    "from langchain_community.vectorstores import FAISS\n",
    "from langchain_core.output_parsers import StrOutputParser\n",
    "from langchain_core.runnables import RunnablePassthrough\n",
    "from langchain_core.prompts import PromptTemplate\n",
    "from langchain_openai import ChatOpenAI, OpenAIEmbeddings\n",
    "\n",
    "# 단계 1: 문서 로드(Load Documents)\n",
    "pdf_filename=\"data/[KISTEP+브리프]+‘생성형+인공지능’+시대의+10대+미래유망기술.pdf\"\n",
    "loader = PyMuPDFLoader(pdf_filename)\n",
    "docs = loader.load()\n",
    "\n",
    "# 단계 2: 문서 분할(Split Documents)\n",
    "text_splitter = RecursiveCharacterTextSplitter(chunk_size=1000, chunk_overlap=50)\n",
    "split_documents = text_splitter.split_documents(docs)\n",
    "\n",
    "# 단계 3: 임베딩(Embedding) 생성\n",
    "embeddings = OpenAIEmbeddings()\n",
    "\n",
    "# 단계 4: DB 생성(Create DB) 및 저장\n",
    "# 벡터스토어를 생성합니다.\n",
    "vectorstore = FAISS.from_documents(documents=split_documents, embedding=embeddings)\n",
    "\n",
    "# 단계 5: 검색기(Retriever) 생성\n",
    "# 문서에 포함되어 있는 정보를 검색하고 생성합니다.\n",
    "retriever = vectorstore.as_retriever()\n",
    "\n",
    "# 단계 6: 프롬프트 생성(Create Prompt)\n",
    "# 프롬프트를 생성합니다.\n",
    "prompt = PromptTemplate.from_template(\n",
    "    \"\"\"You are an assistant for question-answering tasks. \n",
    "Use the following pieces of retrieved context to answer the question. \n",
    "If you don't know the answer, just say that you don't know. \n",
    "Answer in Korean.\n",
    "\n",
    "#Question: \n",
    "{question} \n",
    "#Context: \n",
    "{context} \n",
    "\n",
    "#Answer:\"\"\"\n",
    ")\n",
    "\n",
    "# 단계 7: 언어모델(LLM) 생성\n",
    "# 모델(LLM) 을 생성합니다.\n",
    "llm = ChatOpenAI(model_name=\"gpt-4o\", temperature=0)\n",
    "\n",
    "# 단계 8: 체인(Chain) 생성\n",
    "chain = (\n",
    "    {\"context\": retriever, \"question\": RunnablePassthrough()}\n",
    "    | prompt\n",
    "    | llm\n",
    "    | StrOutputParser()\n",
    ")"
   ]
  },
  {
   "cell_type": "code",
   "execution_count": null,
   "id": "c5986cab",
   "metadata": {},
   "outputs": [],
   "source": [
    "# 체인 실행(Run Chain)\n",
    "# 문서에 대한 질의를 입력하고, 답변을 출력합니다.\n",
    "question = \"신경망처리 기반 인공지능 전용칩에 대해 설명해주세요.\" # 20페이지\n",
    "response = chain.invoke(question)\n",
    "print(response)"
   ]
  }
 ],
 "metadata": {
  "kernelspec": {
   "display_name": "py-test",
   "language": "python",
   "name": "python3"
  },
  "language_info": {
   "codemirror_mode": {
    "name": "ipython",
    "version": 3
   },
   "file_extension": ".py",
   "mimetype": "text/x-python",
   "name": "python",
   "nbconvert_exporter": "python",
   "pygments_lexer": "ipython3",
   "version": "3.11.9"
  }
 },
 "nbformat": 4,
 "nbformat_minor": 5
}
